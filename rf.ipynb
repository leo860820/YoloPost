{
 "cells": [
  {
   "cell_type": "code",
   "execution_count": 1,
   "id": "21c0f91d-38d1-4aab-913b-8804c265ae01",
   "metadata": {},
   "outputs": [],
   "source": [
    "import numpy as np\n",
    "from sklearn.model_selection import train_test_split\n",
    "from sklearn.model_selection import StratifiedKFold\n",
    "from sklearn.neighbors import KNeighborsClassifier\n",
    "from sklearn.metrics import accuracy_score\n",
    "import matplotlib.pyplot as plt\n",
    "import pandas as pd\n",
    "from sklearn.preprocessing import StandardScaler\n",
    "import ast\n",
    "import joblib\n",
    "import os"
   ]
  },
  {
   "cell_type": "code",
   "execution_count": 2,
   "id": "6b5058b6-f123-4a82-8e62-a772aa7f9eea",
   "metadata": {},
   "outputs": [],
   "source": [
    "version = '3'\n",
    "dataset = pd.read_csv(f'C:/Users/User/Desktop/sum{version}.csv')\n",
    "df = dataset.drop(['image_name'], axis = 1)\n",
    "df.head()\n",
    "def convert_string_tuple_to_floats(s):\n",
    "    if isinstance(s, str):\n",
    "        return np.array(ast.literal_eval(s), dtype=np.float64)\n",
    "    else:\n",
    "        return s\n",
    "# Apply the conversion to all relevant columns\n",
    "for column in df.columns[:-1]:  # Assuming the last column is the target\n",
    "    df[column] = df[column].apply(convert_string_tuple_to_floats)\n",
    "\n",
    "# # Display the first few rows to check the conversion\n",
    "# print(df.head())\n",
    "X = np.array([np.hstack(row) for row in df.iloc[:,:-1].values])  # Flatten the arrays into a 2D array\n",
    "y = df.iloc[:,-1].values"
   ]
  },
  {
   "cell_type": "code",
   "execution_count": 3,
   "id": "1cc008a0-1d4b-4d7b-9ede-88dcbbccf298",
   "metadata": {},
   "outputs": [],
   "source": [
    "# X_train, X_test, y_train, y_test = train_test_split(X, y, test_size = 0.2, random_state = 42)\n",
    "# Initialize StratifiedKFold with 5 folds\n",
    "strat_kfold = StratifiedKFold(n_splits=5, shuffle=True, random_state=42)\n",
    "\n",
    "# Iterate over the StratifiedKFold splits\n",
    "for train_index, test_index in strat_kfold.split(X, y):\n",
    "    X_train, X_test = X[train_index], X[test_index]\n",
    "    y_train, y_test = y[train_index], y[test_index]"
   ]
  },
  {
   "cell_type": "code",
   "execution_count": 4,
   "id": "db9507b7-a97f-4fa8-90e7-aae74359401c",
   "metadata": {},
   "outputs": [],
   "source": [
    "from sklearn.preprocessing import StandardScaler\n",
    "sc = StandardScaler()\n",
    "X_train = sc.fit_transform(X_train)\n",
    "X_test = sc.transform(X_test)"
   ]
  },
  {
   "cell_type": "code",
   "execution_count": 5,
   "id": "469586a7-89a7-4999-a4c9-d3caec44f936",
   "metadata": {},
   "outputs": [
    {
     "name": "stdout",
     "output_type": "stream",
     "text": [
      "Accuracy: 0.98\n",
      "\n",
      "Predictions: [0 1 0 ... 1 1 1]\n",
      "Actual labels: [0 1 0 ... 0 0 1]\n"
     ]
    }
   ],
   "source": [
    "from sklearn.ensemble import RandomForestClassifier\n",
    "classifier = RandomForestClassifier(n_estimators = 10, criterion = 'entropy', random_state = 0)\n",
    "classifier.fit(X_train, y_train)\n",
    "y_pred = classifier.predict(X_test)\n",
    "# Evaluate the accuracy of the classifier\n",
    "accuracy = accuracy_score(y_test, y_pred)\n",
    "print(f\"Accuracy: {accuracy:.2f}\")\n",
    "\n",
    "# Display the predictions and the actual labels\n",
    "print(\"\\nPredictions:\", y_pred)\n",
    "print(\"Actual labels:\", y_test)"
   ]
  },
  {
   "cell_type": "code",
   "execution_count": 6,
   "id": "071ead25-0dea-4bb3-9c5b-5a4bdb73bb29",
   "metadata": {},
   "outputs": [
    {
     "name": "stdout",
     "output_type": "stream",
     "text": [
      "Confusion Matrix:\n",
      "[[820  21]\n",
      " [ 15 890]]\n",
      "\n",
      "Accuracy: 0.979381443298969\n",
      "Precision: 0.9769484083424808\n",
      "Recall: 0.9834254143646409\n",
      "F1 Score: 0.9801762114537445\n"
     ]
    }
   ],
   "source": [
    "from sklearn.metrics import confusion_matrix, accuracy_score, precision_score, recall_score, f1_score\n",
    "\n",
    "# Assuming y_test and y_pred are already defined\n",
    "cm = confusion_matrix(y_test, y_pred)\n",
    "accuracy = accuracy_score(y_test, y_pred)\n",
    "precision = precision_score(y_test, y_pred)\n",
    "recall = recall_score(y_test, y_pred)\n",
    "f1 = f1_score(y_test, y_pred)\n",
    "\n",
    "print(\"Confusion Matrix:\")\n",
    "print(cm)\n",
    "print(\"\\nAccuracy:\", accuracy)\n",
    "print(\"Precision:\", precision)\n",
    "print(\"Recall:\", recall)\n",
    "print(\"F1 Score:\", f1)"
   ]
  },
  {
   "cell_type": "code",
   "execution_count": 7,
   "id": "9846cf54-0c69-43c4-804f-2d84b436600a",
   "metadata": {},
   "outputs": [
    {
     "data": {
      "text/plain": [
       "['C:/Users/User/Desktop/yolofall/new_rf_scaler_3.pkl']"
      ]
     },
     "execution_count": 7,
     "metadata": {},
     "output_type": "execute_result"
    }
   ],
   "source": [
    "# Export the trained KNN model to a file\n",
    "save_path_rf = f'C:/Users/User/Desktop/yolofall/new_rf_model_{version}.pkl'\n",
    "save_path_scaler = f'C:/Users/User/Desktop/yolofall/new_rf_scaler_{version}.pkl'\n",
    "joblib.dump(classifier, save_path_rf)\n",
    "joblib.dump(sc, save_path_scaler)"
   ]
  }
 ],
 "metadata": {
  "kernelspec": {
   "display_name": "Python 3 (ipykernel)",
   "language": "python",
   "name": "python3"
  },
  "language_info": {
   "codemirror_mode": {
    "name": "ipython",
    "version": 3
   },
   "file_extension": ".py",
   "mimetype": "text/x-python",
   "name": "python",
   "nbconvert_exporter": "python",
   "pygments_lexer": "ipython3",
   "version": "3.9.19"
  }
 },
 "nbformat": 4,
 "nbformat_minor": 5
}
